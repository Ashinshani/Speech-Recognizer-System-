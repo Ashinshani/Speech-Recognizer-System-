{
 "cells": [
  {
   "cell_type": "code",
   "execution_count": 1,
   "id": "4afeff7e",
   "metadata": {},
   "outputs": [],
   "source": [
    "import speech_recognition\n",
    "import pyttsx3"
   ]
  },
  {
   "cell_type": "code",
   "execution_count": 2,
   "id": "a8517436",
   "metadata": {},
   "outputs": [],
   "source": [
    "def Speaknow(command):\n",
    "    voice = pyttsx3.init()\n",
    "    voice.say(command)\n",
    "    voice.runAndWait()"
   ]
  },
  {
   "cell_type": "code",
   "execution_count": 5,
   "id": "d067bb31",
   "metadata": {},
   "outputs": [
    {
     "name": "stdout",
     "output_type": "stream",
     "text": [
      "Silence please\n",
      "Speak now please....\n",
      "Did you say :how are you\n"
     ]
    }
   ],
   "source": [
    "sr = speech_recognition.Recognizer()\n",
    "with speech_recognition.Microphone() as source2:\n",
    "    print(\"Silence please\")\n",
    "\n",
    "    sr.adjust_for_ambient_noise(source2, duration=2)\n",
    "    print(\"Speak now please....\")\n",
    "    audio2 = sr.listen(source2)\n",
    "    textt = sr.recognize_google(audio2)\n",
    "    textt = textt.lower()\n",
    "    print(\"Did you say :\" +textt)\n",
    "\n",
    "    Speaknow(textt)"
   ]
  },
  {
   "cell_type": "code",
   "execution_count": 6,
   "id": "ee28ba20",
   "metadata": {},
   "outputs": [],
   "source": [
    "import webbrowser"
   ]
  },
  {
   "cell_type": "code",
   "execution_count": 8,
   "id": "ac98f9bf",
   "metadata": {},
   "outputs": [
    {
     "name": "stdout",
     "output_type": "stream",
     "text": [
      "Please say something to open.......\n",
      "Hearing.....\n",
      "You asked to open :www.youtube.com\n"
     ]
    }
   ],
   "source": [
    "if __name__ == \"__main__\":\n",
    "    path = \"C:/Program Files (x86)/Microsoft/Edge/Application/msedge.exe %s\"\n",
    "    sr = speech_recognition.Recognizer()\n",
    "    with speech_recognition.Microphone() as source:\n",
    "        sr.adjust_for_ambient_noise(source)\n",
    "        print(\"Please say something to open.......\")\n",
    "        audio = sr.listen(source)\n",
    "        print(\"Hearing.....\")\n",
    "        try:\n",
    "            destination = sr.recognize_google(audio)\n",
    "            print(\"You asked to open :\"+destination)\n",
    "            webbrowser.get(path).open(destination)\n",
    "        except Exception as e:\n",
    "            print(\"error :\" ,str(e))\n",
    "            "
   ]
  }
 ],
 "metadata": {
  "kernelspec": {
   "display_name": "Python 3",
   "language": "python",
   "name": "python3"
  },
  "language_info": {
   "codemirror_mode": {
    "name": "ipython",
    "version": 3
   },
   "file_extension": ".py",
   "mimetype": "text/x-python",
   "name": "python",
   "nbconvert_exporter": "python",
   "pygments_lexer": "ipython3",
   "version": "3.13.2"
  }
 },
 "nbformat": 4,
 "nbformat_minor": 5
}
